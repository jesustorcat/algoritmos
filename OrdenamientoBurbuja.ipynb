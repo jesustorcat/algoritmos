{
 "cells": [
  {
   "cell_type": "code",
   "execution_count": 1,
   "metadata": {},
   "outputs": [],
   "source": [
    "# Algoritmo de ordenamiento(Método de la Burbuja)"
   ]
  },
  {
   "cell_type": "code",
   "execution_count": 2,
   "metadata": {},
   "outputs": [],
   "source": [
    "# Función de ordenamiento\n",
    "\n",
    "def ordenamiento_burbuja(cadena):\n",
    "    numero_comparaciones = 0\n",
    "    \n",
    "    longitud = len(cadena)\n",
    "    \n",
    "    for i in iter(range(1, longitud)):\n",
    "        for j in iter(range(longitud - 1)):\n",
    "            numero_comparaciones +=1\n",
    "            \n",
    "            if cadena[j] > cadena[j + 1]:\n",
    "                cadena[j], cadena[j + 1] = cadena[j + 1], cadena[j]\n",
    "                \n",
    "    print('La cadena ordenada es: {}\\n'.format(cadena)+\n",
    "         'Se realaizaron {} comparaciones'.format(numero_comparaciones))\n"
   ]
  },
  {
   "cell_type": "code",
   "execution_count": 3,
   "metadata": {},
   "outputs": [],
   "source": [
    "cadena = [2,6,3,8,3,9,2,898,3443,7,1243275,1,50,9]"
   ]
  },
  {
   "cell_type": "code",
   "execution_count": 4,
   "metadata": {},
   "outputs": [
    {
     "name": "stdout",
     "output_type": "stream",
     "text": [
      "La cadena ordenada es: [1, 2, 2, 3, 3, 6, 7, 8, 9, 9, 50, 898, 3443, 1243275]\n",
      "Se realaizaron 169 comparaciones\n"
     ]
    }
   ],
   "source": [
    "ordenamiento_burbuja(cadena)"
   ]
  },
  {
   "cell_type": "code",
   "execution_count": 5,
   "metadata": {},
   "outputs": [],
   "source": [
    "cadena_2 = ['z', 'l', 'x', 'b', 'm']"
   ]
  },
  {
   "cell_type": "code",
   "execution_count": 6,
   "metadata": {},
   "outputs": [
    {
     "name": "stdout",
     "output_type": "stream",
     "text": [
      "La cadena ordenada es: ['b', 'l', 'm', 'x', 'z']\n",
      "Se realaizaron 16 comparaciones\n"
     ]
    }
   ],
   "source": [
    "ordenamiento_burbuja(cadena_2)"
   ]
  }
 ],
 "metadata": {
  "kernelspec": {
   "display_name": "Python 3",
   "language": "python",
   "name": "python3"
  },
  "language_info": {
   "codemirror_mode": {
    "name": "ipython",
    "version": 3
   },
   "file_extension": ".py",
   "mimetype": "text/x-python",
   "name": "python",
   "nbconvert_exporter": "python",
   "pygments_lexer": "ipython3",
   "version": "3.7.3"
  }
 },
 "nbformat": 4,
 "nbformat_minor": 2
}
