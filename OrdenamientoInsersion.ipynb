{
 "cells": [
  {
   "cell_type": "code",
   "execution_count": 1,
   "metadata": {},
   "outputs": [],
   "source": [
    "# Algoritmo de Ordenamiento (Insersión)"
   ]
  },
  {
   "cell_type": "code",
   "execution_count": 5,
   "metadata": {},
   "outputs": [],
   "source": [
    "# Función Ordenamiento por Insersión\n",
    "\n",
    "def ordenamiento_insersion(cadena):\n",
    "    numero_comparaciones = 0\n",
    "    longitud = len(cadena)\n",
    "    \n",
    "    for i in iter(range(1, longitud)):\n",
    "        buffer = cadena[i]\n",
    "        j = i\n",
    "        while j > 0 and cadena[j - 1] > buffer:\n",
    "            cadena[j] = cadena[j - 1]\n",
    "            j -= 1\n",
    "            numero_comparaciones += 1\n",
    "            \n",
    "        cadena[j] = buffer\n",
    "        \n",
    "    print('La cadena ordenada es: {} \\n'.format(cadena) +\n",
    "          'Se realizaron {} comparaciones.'.format(numero_comparaciones))"
   ]
  },
  {
   "cell_type": "code",
   "execution_count": 6,
   "metadata": {},
   "outputs": [],
   "source": [
    "cadena_1 = [4,1,7,3,6,27,2,83,2,4,8,2,8,22,100,99]"
   ]
  },
  {
   "cell_type": "code",
   "execution_count": 7,
   "metadata": {},
   "outputs": [
    {
     "name": "stdout",
     "output_type": "stream",
     "text": [
      "La cadena ordenada es: [1, 2, 2, 2, 3, 4, 4, 6, 7, 8, 8, 22, 27, 83, 99, 100] \n",
      "Se realizaron 34 comparaciones.\n"
     ]
    }
   ],
   "source": [
    "ordenamiento_insersion(cadena_1)"
   ]
  },
  {
   "cell_type": "code",
   "execution_count": 8,
   "metadata": {},
   "outputs": [],
   "source": [
    "cadena_2 = ['Jesús David', 'Jesús Alejandro', 'Yuan Pan', 'Mirella Montes', 'Vanessa Carmona', 'Romilé Briceño']"
   ]
  },
  {
   "cell_type": "code",
   "execution_count": 9,
   "metadata": {},
   "outputs": [
    {
     "name": "stdout",
     "output_type": "stream",
     "text": [
      "La cadena ordenada es: ['Jesús Alejandro', 'Jesús David', 'Mirella Montes', 'Romilé Briceño', 'Vanessa Carmona', 'Yuan Pan'] \n",
      "Se realizaron 5 comparaciones.\n"
     ]
    }
   ],
   "source": [
    "ordenamiento_insersion(cadena_2)"
   ]
  }
 ],
 "metadata": {
  "kernelspec": {
   "display_name": "Python 3",
   "language": "python",
   "name": "python3"
  },
  "language_info": {
   "codemirror_mode": {
    "name": "ipython",
    "version": 3
   },
   "file_extension": ".py",
   "mimetype": "text/x-python",
   "name": "python",
   "nbconvert_exporter": "python",
   "pygments_lexer": "ipython3",
   "version": "3.7.3"
  }
 },
 "nbformat": 4,
 "nbformat_minor": 2
}
