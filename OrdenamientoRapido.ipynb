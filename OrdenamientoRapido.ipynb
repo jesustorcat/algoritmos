{
 "cells": [
  {
   "cell_type": "code",
   "execution_count": 1,
   "metadata": {},
   "outputs": [],
   "source": [
    "# Algoritmo de Ordenamiento (Rápido)"
   ]
  },
  {
   "cell_type": "code",
   "execution_count": 2,
   "metadata": {},
   "outputs": [],
   "source": [
    "# Función Ordenamiento Rápido (QuickSort)\n",
    "\n",
    "def ordenamiento_rapido(cadena):\n",
    "    ordenamiento_rapido_auxiliar(cadena,0,len(cadena)-1)\n",
    "\n",
    "def ordenamiento_rapido_auxiliar(cadena,primero,ultimo):\n",
    "    if primero<ultimo:\n",
    "        puntoDivision = particion(cadena,primero,ultimo)\n",
    "        ordenamiento_rapido_auxiliar(cadena,primero,puntoDivision-1)\n",
    "        ordenamiento_rapido_auxiliar(cadena,puntoDivision+1,ultimo)\n",
    "\n",
    "\n",
    "def particion(unaLista,primero,ultimo):\n",
    "    valorPivote = unaLista[primero]\n",
    "    marcaIzq = primero+1\n",
    "    marcaDer = ultimo\n",
    "    \n",
    "    hecho = False\n",
    "    \n",
    "    while not hecho:\n",
    "        while marcaIzq <= marcaDer and unaLista[marcaIzq] <= valorPivote:\n",
    "            marcaIzq = marcaIzq + 1\n",
    "            \n",
    "        while unaLista[marcaDer] >= valorPivote and marcaDer >= marcaIzq:\n",
    "            marcaDer = marcaDer -1\n",
    "            \n",
    "        if marcaDer < marcaIzq:\n",
    "            hecho = True\n",
    "        else:\n",
    "            temp = unaLista[marcaIzq]\n",
    "            unaLista[marcaIzq] = unaLista[marcaDer]\n",
    "            unaLista[marcaDer] = temp\n",
    "    \n",
    "    temp = unaLista[primero]\n",
    "    unaLista[primero] = unaLista[marcaDer]\n",
    "    unaLista[marcaDer] = temp\n",
    "    \n",
    "    return marcaDer"
   ]
  },
  {
   "cell_type": "code",
   "execution_count": 3,
   "metadata": {},
   "outputs": [],
   "source": [
    "cadena_1 = [54,9,1,3,10,4,5,8,7,2,43,21,0]"
   ]
  },
  {
   "cell_type": "code",
   "execution_count": 4,
   "metadata": {},
   "outputs": [],
   "source": [
    "ordenamiento_rapido(cadena_1)"
   ]
  },
  {
   "cell_type": "code",
   "execution_count": 5,
   "metadata": {},
   "outputs": [
    {
     "name": "stdout",
     "output_type": "stream",
     "text": [
      "[0, 1, 2, 3, 4, 5, 7, 8, 9, 10, 21, 43, 54]\n"
     ]
    }
   ],
   "source": [
    "print(cadena_1)"
   ]
  },
  {
   "cell_type": "code",
   "execution_count": 6,
   "metadata": {},
   "outputs": [],
   "source": [
    "cadena_2 = ['Caracas', 'Buenos Aries', 'Sao Pablo', 'Porto Alegre', 'Chicago', 'Barcelona']"
   ]
  },
  {
   "cell_type": "code",
   "execution_count": 7,
   "metadata": {},
   "outputs": [],
   "source": [
    "ordenamiento_rapido(cadena_2)"
   ]
  },
  {
   "cell_type": "code",
   "execution_count": 8,
   "metadata": {},
   "outputs": [
    {
     "name": "stdout",
     "output_type": "stream",
     "text": [
      "['Barcelona', 'Buenos Aries', 'Caracas', 'Chicago', 'Porto Alegre', 'Sao Pablo']\n"
     ]
    }
   ],
   "source": [
    "print(cadena_2)"
   ]
  }
 ],
 "metadata": {
  "kernelspec": {
   "display_name": "Python 3",
   "language": "python",
   "name": "python3"
  },
  "language_info": {
   "codemirror_mode": {
    "name": "ipython",
    "version": 3
   },
   "file_extension": ".py",
   "mimetype": "text/x-python",
   "name": "python",
   "nbconvert_exporter": "python",
   "pygments_lexer": "ipython3",
   "version": "3.7.3"
  }
 },
 "nbformat": 4,
 "nbformat_minor": 2
}
