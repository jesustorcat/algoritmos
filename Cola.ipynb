{
 "cells": [
  {
   "cell_type": "code",
   "execution_count": 1,
   "metadata": {},
   "outputs": [],
   "source": [
    "# Colas"
   ]
  },
  {
   "cell_type": "code",
   "execution_count": 2,
   "metadata": {},
   "outputs": [],
   "source": [
    "# Clase Cola\n",
    "\n",
    "class Cola:\n",
    "    \n",
    "    def __init__(self):\n",
    "        self.cola = []\n",
    "        \n",
    "    def agregar(self, valor):\n",
    "        self.cola.insert(0, valor)\n",
    "        print('Se agregó {} a la cola.'.format(valor))\n",
    "        \n",
    "    def salir(self):\n",
    "        try:            \n",
    "            x = self.cola.pop()\n",
    "            print('{} ha salido de la cola.'.format(x))\n",
    "        except:\n",
    "            print('No hay nada en la cola.')\n",
    "        \n",
    "    def esta_vacia(self):\n",
    "        if self.cola == []:\n",
    "            print('No hay nada en la cola.')\n",
    "        else:\n",
    "            print('Hay elementos en la cola.')\n",
    "            \n",
    "    def revisar(self):\n",
    "        if self.cola == []:\n",
    "            print('No Hay nada en la cola.')\n",
    "        else:\n",
    "            for i,j in enumerate(reversed(self.cola)):\n",
    "                print('{}. {}'.format(i+1, j))"
   ]
  },
  {
   "cell_type": "code",
   "execution_count": 3,
   "metadata": {},
   "outputs": [],
   "source": [
    "cola = Cola()"
   ]
  },
  {
   "cell_type": "code",
   "execution_count": 4,
   "metadata": {},
   "outputs": [
    {
     "name": "stdout",
     "output_type": "stream",
     "text": [
      "No Hay nada en la cola.\n"
     ]
    }
   ],
   "source": [
    "cola.revisar()"
   ]
  },
  {
   "cell_type": "code",
   "execution_count": 5,
   "metadata": {},
   "outputs": [
    {
     "name": "stdout",
     "output_type": "stream",
     "text": [
      "No hay nada en la cola.\n"
     ]
    }
   ],
   "source": [
    "cola.salir()"
   ]
  },
  {
   "cell_type": "code",
   "execution_count": 6,
   "metadata": {},
   "outputs": [
    {
     "name": "stdout",
     "output_type": "stream",
     "text": [
      "Se agregó Jesús a la cola.\n"
     ]
    }
   ],
   "source": [
    "cola.agregar('Jesús')"
   ]
  },
  {
   "cell_type": "code",
   "execution_count": 7,
   "metadata": {},
   "outputs": [
    {
     "name": "stdout",
     "output_type": "stream",
     "text": [
      "1. Jesús\n"
     ]
    }
   ],
   "source": [
    "cola.revisar()"
   ]
  },
  {
   "cell_type": "code",
   "execution_count": 8,
   "metadata": {},
   "outputs": [
    {
     "name": "stdout",
     "output_type": "stream",
     "text": [
      "Se agregó Yuan a la cola.\n"
     ]
    }
   ],
   "source": [
    "cola.agregar('Yuan')"
   ]
  },
  {
   "cell_type": "code",
   "execution_count": 9,
   "metadata": {},
   "outputs": [
    {
     "name": "stdout",
     "output_type": "stream",
     "text": [
      "1. Jesús\n",
      "2. Yuan\n"
     ]
    }
   ],
   "source": [
    "cola.revisar()"
   ]
  },
  {
   "cell_type": "code",
   "execution_count": 10,
   "metadata": {},
   "outputs": [
    {
     "name": "stdout",
     "output_type": "stream",
     "text": [
      "Se agregó Mirella a la cola.\n"
     ]
    }
   ],
   "source": [
    "cola.agregar('Mirella')"
   ]
  },
  {
   "cell_type": "code",
   "execution_count": 11,
   "metadata": {},
   "outputs": [
    {
     "name": "stdout",
     "output_type": "stream",
     "text": [
      "Se agregó Linda a la cola.\n"
     ]
    }
   ],
   "source": [
    "cola.agregar('Linda')"
   ]
  },
  {
   "cell_type": "code",
   "execution_count": 12,
   "metadata": {},
   "outputs": [
    {
     "name": "stdout",
     "output_type": "stream",
     "text": [
      "1. Jesús\n",
      "2. Yuan\n",
      "3. Mirella\n",
      "4. Linda\n"
     ]
    }
   ],
   "source": [
    "cola.revisar()"
   ]
  },
  {
   "cell_type": "code",
   "execution_count": 13,
   "metadata": {},
   "outputs": [
    {
     "name": "stdout",
     "output_type": "stream",
     "text": [
      "Jesús ha salido de la cola.\n"
     ]
    }
   ],
   "source": [
    "cola.salir()"
   ]
  },
  {
   "cell_type": "code",
   "execution_count": 14,
   "metadata": {},
   "outputs": [
    {
     "name": "stdout",
     "output_type": "stream",
     "text": [
      "1. Yuan\n",
      "2. Mirella\n",
      "3. Linda\n"
     ]
    }
   ],
   "source": [
    "cola.revisar()"
   ]
  },
  {
   "cell_type": "code",
   "execution_count": null,
   "metadata": {},
   "outputs": [],
   "source": []
  }
 ],
 "metadata": {
  "kernelspec": {
   "display_name": "Python 3",
   "language": "python",
   "name": "python3"
  },
  "language_info": {
   "codemirror_mode": {
    "name": "ipython",
    "version": 3
   },
   "file_extension": ".py",
   "mimetype": "text/x-python",
   "name": "python",
   "nbconvert_exporter": "python",
   "pygments_lexer": "ipython3",
   "version": "3.7.3"
  }
 },
 "nbformat": 4,
 "nbformat_minor": 2
}
