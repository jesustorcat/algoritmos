{
 "cells": [
  {
   "cell_type": "code",
   "execution_count": 1,
   "metadata": {},
   "outputs": [],
   "source": [
    "# Algoritmo de Oredenamiento (Mezcla)"
   ]
  },
  {
   "cell_type": "code",
   "execution_count": 2,
   "metadata": {},
   "outputs": [],
   "source": [
    "# Función de Ordenamiento por mezcla\n",
    "\n",
    "def ordenamiento_mezcla(cadena):\n",
    "    if len(cadena) > 1:\n",
    "        mitad = len(cadena)//2\n",
    "        izquierda = cadena[:mitad]\n",
    "        derecha = cadena[mitad:]\n",
    "        \n",
    "        ordenamiento_mezcla(izquierda)\n",
    "        ordenamiento_mezcla(derecha)\n",
    "        \n",
    "        \n",
    "        i,j,k = 0,0,0\n",
    "        \n",
    "        while i < len(izquierda) and j < len(derecha):\n",
    "            if izquierda[i] < derecha[j]:\n",
    "                cadena[k] = izquierda[i]\n",
    "                i+=1\n",
    "            else:\n",
    "                cadena[k] = derecha[j]\n",
    "                j+=1\n",
    "            k+=1\n",
    "            \n",
    "        while i < len(izquierda):\n",
    "            cadena[k] = izquierda[i]\n",
    "            i+=1\n",
    "            k+=1\n",
    "            \n",
    "        while j < len(derecha):\n",
    "            cadena[k] = derecha[j]\n",
    "            j+=1\n",
    "            k+=1\n",
    "            \n",
    "    return cadena\n",
    "        "
   ]
  },
  {
   "cell_type": "code",
   "execution_count": 3,
   "metadata": {},
   "outputs": [],
   "source": [
    "cadena_1 = [7,23,23,65,312,436457,2,3454,21,623,1,9,380,3,6]"
   ]
  },
  {
   "cell_type": "code",
   "execution_count": 4,
   "metadata": {},
   "outputs": [
    {
     "data": {
      "text/plain": [
       "[1, 2, 3, 6, 7, 9, 21, 23, 23, 65, 312, 380, 623, 3454, 436457]"
      ]
     },
     "execution_count": 4,
     "metadata": {},
     "output_type": "execute_result"
    }
   ],
   "source": [
    "ordenamiento_mezcla(cadena_1)"
   ]
  },
  {
   "cell_type": "code",
   "execution_count": 5,
   "metadata": {},
   "outputs": [],
   "source": [
    "cadena_2 = ['Vanessa','Mirella', 'Yuan', 'Jesús', 'Romilé']"
   ]
  },
  {
   "cell_type": "code",
   "execution_count": 6,
   "metadata": {},
   "outputs": [
    {
     "data": {
      "text/plain": [
       "['Jesús', 'Mirella', 'Romilé', 'Vanessa', 'Yuan']"
      ]
     },
     "execution_count": 6,
     "metadata": {},
     "output_type": "execute_result"
    }
   ],
   "source": [
    "ordenamiento_mezcla(cadena_2)"
   ]
  }
 ],
 "metadata": {
  "kernelspec": {
   "display_name": "Python 3",
   "language": "python",
   "name": "python3"
  },
  "language_info": {
   "codemirror_mode": {
    "name": "ipython",
    "version": 3
   },
   "file_extension": ".py",
   "mimetype": "text/x-python",
   "name": "python",
   "nbconvert_exporter": "python",
   "pygments_lexer": "ipython3",
   "version": "3.7.3"
  }
 },
 "nbformat": 4,
 "nbformat_minor": 2
}
