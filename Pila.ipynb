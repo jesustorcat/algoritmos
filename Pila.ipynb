{
 "cells": [
  {
   "cell_type": "code",
   "execution_count": 1,
   "metadata": {},
   "outputs": [],
   "source": [
    "# Pila "
   ]
  },
  {
   "cell_type": "code",
   "execution_count": 2,
   "metadata": {},
   "outputs": [],
   "source": [
    "# Clase Pila.\n",
    "\n",
    "class Pila:\n",
    "    \n",
    "    def __init__(self):\n",
    "        self.lista = []\n",
    "    \n",
    "    def agregar(self, valor):\n",
    "        self.lista.append(valor)\n",
    "        print('Fué incluido {} a la lista.'.format(valor))\n",
    "        \n",
    "    def extraer(self):\n",
    "        try:\n",
    "            x = self.lista.pop()\n",
    "            print('Fue extraido el elemento {} de la lista.'.format(x))\n",
    "        except:\n",
    "            print('No hay nada en la pila.')\n",
    "        \n",
    "    def esta_vacia(self):\n",
    "        if self.lista == []:\n",
    "            print('La lista está vacía.')\n",
    "        else:\n",
    "            print('La lista no está vacía')\n",
    "    \n",
    "    def revisar(self):\n",
    "        if self.lista == []:\n",
    "            print('La pila está vacía.')\n",
    "        else:\n",
    "            for i,j in enumerate(self.lista):\n",
    "                print('{}. {}'.format(i+1, j))\n",
    "            \n",
    "    "
   ]
  },
  {
   "cell_type": "code",
   "execution_count": 3,
   "metadata": {},
   "outputs": [],
   "source": [
    "pila = Pila()"
   ]
  },
  {
   "cell_type": "code",
   "execution_count": 4,
   "metadata": {},
   "outputs": [
    {
     "name": "stdout",
     "output_type": "stream",
     "text": [
      "La lista está vacía.\n"
     ]
    }
   ],
   "source": [
    "pila.esta_vacia()"
   ]
  },
  {
   "cell_type": "code",
   "execution_count": 5,
   "metadata": {},
   "outputs": [
    {
     "name": "stdout",
     "output_type": "stream",
     "text": [
      "Fué incluido Jesús a la lista.\n"
     ]
    }
   ],
   "source": [
    "pila.agregar('Jesús')"
   ]
  },
  {
   "cell_type": "code",
   "execution_count": 6,
   "metadata": {},
   "outputs": [
    {
     "name": "stdout",
     "output_type": "stream",
     "text": [
      "La lista no está vacía\n"
     ]
    }
   ],
   "source": [
    "pila.esta_vacia()"
   ]
  },
  {
   "cell_type": "code",
   "execution_count": 7,
   "metadata": {},
   "outputs": [
    {
     "name": "stdout",
     "output_type": "stream",
     "text": [
      "1. Jesús\n"
     ]
    }
   ],
   "source": [
    "pila.revisar()"
   ]
  },
  {
   "cell_type": "code",
   "execution_count": 8,
   "metadata": {},
   "outputs": [
    {
     "name": "stdout",
     "output_type": "stream",
     "text": [
      "Fué incluido Yuan a la lista.\n"
     ]
    }
   ],
   "source": [
    "pila.agregar('Yuan')"
   ]
  },
  {
   "cell_type": "code",
   "execution_count": 9,
   "metadata": {},
   "outputs": [
    {
     "name": "stdout",
     "output_type": "stream",
     "text": [
      "1. Jesús\n",
      "2. Yuan\n"
     ]
    }
   ],
   "source": [
    "pila.revisar()"
   ]
  },
  {
   "cell_type": "code",
   "execution_count": 10,
   "metadata": {},
   "outputs": [
    {
     "name": "stdout",
     "output_type": "stream",
     "text": [
      "Fué incluido Mirella a la lista.\n"
     ]
    }
   ],
   "source": [
    "pila.agregar('Mirella')"
   ]
  },
  {
   "cell_type": "code",
   "execution_count": 11,
   "metadata": {},
   "outputs": [
    {
     "name": "stdout",
     "output_type": "stream",
     "text": [
      "1. Jesús\n",
      "2. Yuan\n",
      "3. Mirella\n"
     ]
    }
   ],
   "source": [
    "pila.revisar()"
   ]
  },
  {
   "cell_type": "code",
   "execution_count": 12,
   "metadata": {},
   "outputs": [
    {
     "name": "stdout",
     "output_type": "stream",
     "text": [
      "Fue extraido el elemento Mirella de la lista.\n"
     ]
    }
   ],
   "source": [
    "pila.extraer()"
   ]
  },
  {
   "cell_type": "code",
   "execution_count": 13,
   "metadata": {},
   "outputs": [
    {
     "name": "stdout",
     "output_type": "stream",
     "text": [
      "1. Jesús\n",
      "2. Yuan\n"
     ]
    }
   ],
   "source": [
    "pila.revisar()"
   ]
  }
 ],
 "metadata": {
  "kernelspec": {
   "display_name": "Python 3",
   "language": "python",
   "name": "python3"
  },
  "language_info": {
   "codemirror_mode": {
    "name": "ipython",
    "version": 3
   },
   "file_extension": ".py",
   "mimetype": "text/x-python",
   "name": "python",
   "nbconvert_exporter": "python",
   "pygments_lexer": "ipython3",
   "version": "3.7.3"
  }
 },
 "nbformat": 4,
 "nbformat_minor": 2
}
